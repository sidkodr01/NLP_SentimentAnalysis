{
 "cells": [
  {
   "cell_type": "code",
   "execution_count": 2,
   "metadata": {},
   "outputs": [
    {
     "name": "stderr",
     "output_type": "stream",
     "text": [
      "/Users/siddarthsrinivas/Library/Python/3.9/lib/python/site-packages/urllib3/__init__.py:35: NotOpenSSLWarning: urllib3 v2 only supports OpenSSL 1.1.1+, currently the 'ssl' module is compiled with 'LibreSSL 2.8.3'. See: https://github.com/urllib3/urllib3/issues/3020\n",
      "  warnings.warn(\n",
      "/Users/siddarthsrinivas/Library/Python/3.9/lib/python/site-packages/tqdm/auto.py:21: TqdmWarning: IProgress not found. Please update jupyter and ipywidgets. See https://ipywidgets.readthedocs.io/en/stable/user_install.html\n",
      "  from .autonotebook import tqdm as notebook_tqdm\n"
     ]
    }
   ],
   "source": [
    "from transformers import AutoTokenizer, AutoModelForSequenceClassification\n",
    "import torch\n",
    "import requests\n",
    "from bs4 import BeautifulSoup\n",
    "import re"
   ]
  },
  {
   "cell_type": "markdown",
   "metadata": {},
   "source": []
  },
  {
   "cell_type": "code",
   "execution_count": 3,
   "metadata": {},
   "outputs": [],
   "source": [
    "tokenizer = AutoTokenizer.from_pretrained('nlptown/bert-base-multilingual-uncased-sentiment')\n",
    "model = AutoModelForSequenceClassification.from_pretrained('nlptown/bert-base-multilingual-uncased-sentiment')"
   ]
  },
  {
   "cell_type": "code",
   "execution_count": 4,
   "metadata": {},
   "outputs": [
    {
     "data": {
      "text/plain": [
       "tensor([[  101, 11237, 20058,   119, 11838, 10110, 39854,   102]])"
      ]
     },
     "execution_count": 4,
     "metadata": {},
     "output_type": "execute_result"
    }
   ],
   "source": [
    "tokens = tokenizer.encode('Average product. Great and amazing', return_tensors='pt')\n",
    "tokens"
   ]
  },
  {
   "cell_type": "code",
   "execution_count": 5,
   "metadata": {},
   "outputs": [
    {
     "data": {
      "text/plain": [
       "SequenceClassifierOutput(loss=None, logits=tensor([[-1.6242, -0.7069,  0.8921,  0.7754,  0.5908]],\n",
       "       grad_fn=<AddmmBackward0>), hidden_states=None, attentions=None)"
      ]
     },
     "execution_count": 5,
     "metadata": {},
     "output_type": "execute_result"
    }
   ],
   "source": [
    "result = model(tokens)\n",
    "result"
   ]
  },
  {
   "cell_type": "code",
   "execution_count": 6,
   "metadata": {},
   "outputs": [
    {
     "data": {
      "text/plain": [
       "3"
      ]
     },
     "execution_count": 6,
     "metadata": {},
     "output_type": "execute_result"
    }
   ],
   "source": [
    "int(torch.argmax(result.logits))+1\n"
   ]
  },
  {
   "cell_type": "code",
   "execution_count": 7,
   "metadata": {},
   "outputs": [
    {
     "data": {
      "text/plain": [
       "tensor([[-1.6242, -0.7069,  0.8921,  0.7754,  0.5908]],\n",
       "       grad_fn=<AddmmBackward0>)"
      ]
     },
     "execution_count": 7,
     "metadata": {},
     "output_type": "execute_result"
    }
   ],
   "source": [
    "result.logits"
   ]
  },
  {
   "cell_type": "code",
   "execution_count": 8,
   "metadata": {},
   "outputs": [],
   "source": [
    "r = requests.get('https://www.yelp.com/biz/1796-room-bedford?osq=Restaurants')\n",
    "soup = BeautifulSoup(r.text, 'html.parser')\n",
    "regex = re.compile('.*comment.*')\n",
    "results = soup.find_all('p', {'class':regex})\n",
    "reviews = [result.text for result in results]"
   ]
  },
  {
   "cell_type": "code",
   "execution_count": 9,
   "metadata": {},
   "outputs": [
    {
     "data": {
      "text/plain": [
       "[\"Stopped here for dinner. We had tried eating here the week before and were unable to get a table, so this week I made sure to get the reservation earlier. It wasn't too crowded on a Saturday night, and we were sat immediately with the reservation. We placed an order for drinks to start - I got the regiment drink with bourbon. It was good - a decent mix of hooch and ingredients. For the starters we charged the onion soup and a Caesar salad. The Caesar salad wasn't out of the ordinary and the soup was very good. The broth had an interesting flavor to it. For the entree I went with the 14oz NY strip steak. I added bleu cheese crust. For the temp we were nudged towards a medium plus which is a little more towards well than a regular medium. Well - for the second straight weekend at Bedford Springs I got an undercooked steak. This one I didn't sent back and just drenched it in horseradish sauce. We shared  chocolate cake for dessert which they put a candle on for the celebrated birthday. Our waitress was great - middle-aged blonde lady. Very nice, informative and attentive. Overall good, but for the price and billed as a steakhouse? Underwhelming.\",\n",
       " \"Historic setting w/ unique seating inside Omni Bedford Springs. Fantastic service on NYE w/ few culinary standouts, 1 being rustic, seeded, bread w/ nutty-fruity interior & salt-sprinkled whipped butter. SO GOOD, next time I'm asking for loaf to-go. Three-Cheese Onion Soup, well executed w/ depth in broth (seldom happens anymore) & melty cheesy blend that provided nutty-salty finish.Unfortunately, raving ends there. Excited over unique menu items like Veal Porterhouse, but it was stringy, tough, mostly inedible, even on filet side. I've not eaten many, nor have I personally prepared this cut, so can't speak to the failure, but there was one, because while lower in fat, veal still inherently associated w/ tenderness & ease. Accompanying lobster tail water logged & rubbery. Instead of bright white flesh it was same color & texture as veal.High prices. Not high quality or execution.\",\n",
       " 'This is a typical steak house.  Drinks are made well. Nice steaks, sides are family style, nice wine selection. Our experience was not great. We got a dry-aged porterhouse that was sent back twice because it was way too raw in the center.  The lamb chops were very large and fatty so I would not order those again.  Wine and desserts were very good, which they gave us because of the steak issue.  There are not many restaurants in Bedford so they have a captive audience but still should want to provide a better meal for those looking to spend a lot of money.   Service was exceptional as our waitress saw the steak and was very apologetic.',\n",
       " 'My recent birthday celebration at 1796 Restaurant in Bedford at Omni Bedford Springs was a delightful experience from start to finish. I was pleased they could accommodate our online reservation the day before, especially since I prefer a later dinner. Upon arrival, we were warmly welcomed and served by Michelle, who ensured everything went smoothly. The seamless service was highlighted by the chef personally checking on the warmth of our steaks, adding a special touch to the evening.The meal began with a shared triple cheese onion soup and Caesar salad. The soup was rich and flavorful, though I wished for a bit more broth. The Caesar salad was thoughtfully split onto two plates for us, making it easy to share. I paired my meal with a 6-ounce pour of Chenin Blanc, a wine I am beginning to enjoy more and more. It complemented the meal perfectly, enhancing the overall dining experience.For the main course, I opted for the 8-ounce filet cooked to a perfect medium plus. The steak was tender and flavorful, and while I passed on the Béarnaise sauce, the horseradish cream sauce was a revelation. It was so delicious that I could have eaten it with a spoon. The generous birthday dessert provided on the house was a lovely and much-appreciated gesture, adding to the overall satisfaction of the evening.The ambiance of 1796 Restaurant was another highlight. We were able to sit on a comfortable couch, which usually implies family-style seating, but not here. It felt intimate and cozy, perfect for a special occasion. The valet parking was convenient, and the sides were designed to be shared, making it a great place for a celebratory meal. This experience was far more satisfying than our visit to their sister restaurant the previous weekend, making my birthday dinner truly memorable.',\n",
       " \"I really wanted to love it - the service was great - but the food for the price was just mediocre. The steak was medium and we ordered medium rare. Not worth sending it back but it should be a no brainer at a place like this to get it right. The asparagus was fine but nothing special. The tagliatelle dish was more mushrooms than pasta - almost like a bit of pasta served on a giant bed of mushrooms. But the spiced old fashioned from the Frontier bar was fantastic. You can order the cocktails from that bar's menu because they service the 1796 room. We had a drink at the Frontier bar before dinner and the couple next to us was eating at the bar - their dinner from Frontier tavern looked absolutely delicious.\",\n",
       " \"I've driven past the Bedford Omni before but  have never been inside. It is absolutely  lovely!  From the main door, it's a bit of a walk to the restaurant.  Upon entering, we were directed which way to go.  Since we were a few minutes late we didn't take the time to look around on the way there.  We were immediately seated and welcomed. Our waiter, Jacob was awesome. He was friendly and professional.  He shared some history  and made appropriate  suggestions.  We both ordered a drink and a wedge salad. He suggested we share. We should have listened. ;) it was huge but delicious.  For mains, my husband  got the 12 Oz prime filet.  It was cooked perfectly.  He also got a potato. They were huge.  Again.. we should have shared. I got the lobster  Mac and cheese (it's a side) and a potato. The Mac and cheese would have been plenty. I brought about half home. It had lots of large pieces of lobster and cheesy goodness! For dessert, we asked Jacob which to go with. He described both the 17 Layer chocolate cake and bananas foster so well that it left us still undecided. We ended up choosing bananas  foster. So good!  On the way  out, we explored a bit. We definitely  need to go back and check out the property  again. Staff was all very kind and helpful  and the building is very well kept.\",\n",
       " \"We've really enjoyed this place when visited.  The service is good and so is the food. However, it is now closed. They may reopen it as something different.\",\n",
       " 'I have been here a few times over the years and always enjoyed. It was back open this time after being closed last time I visited. I was disappointed in the food. It took a long time, seemed more expensive than I remember, and really was mediocre.',\n",
       " \"A fabulous steakhouse!!  Hidden in Bedford, Pa. Up there in quality with some of the finest in America.I can't say enough at what a great find this was.\",\n",
       " \"Very unique steakhouse. The set up and decor to this restaurant is unlike any other steakhouse I have been to. It is located behind the Tavern inside of the Omni Bedford springs. This restaurant reminds me of an old speak easy. It has a rustic feel and dark lighting, large tables, and old style decor. Tip- you can make reservation on open table in advance. I warm you, this steakhouse is pricy. Don't go here thinking you're eating at a Texas Roadhouse. This is a real steakhouse. All of the steaks are priced separately from hour side dishes. I ordered the 8oz filet and although it was prepared exactly as I ordered, it was not the best steak I've ever had in my life. I did really enjoy the peppercorn sauce. My husband for their homemade steak sauce for his & it was delicious! If I ever return, j be ordering that. I was slightly disappointed in the portion size of the sides and salads. The $22 lobster Mac & cheese was all of about 8 tablespoons for, not enough for 3 people to share and certainly not worth the price. Our waitress told us the salads were large and could easily be shared by two people, but that wasn't true. We got the arugula salad, which she split for us so that was nice, but it was only a few bites each and in my opinion, no worth $13. We did not order dessert but got cappuccino and espresso. Our waitress did not offer us sugar or cream/milk for the espresso, which was somewhat disappointing. My cappuccino, however, was perfect and came with a crystal sugar stick to sweeten and stir. Although the 1796 room was not my favorite restaurant or steakhouse, I would probably return if I am back at Bedford springs & willing to empty out my wallet on dinner. Next time though, I think I'll order something other than steak.\"]"
      ]
     },
     "execution_count": 9,
     "metadata": {},
     "output_type": "execute_result"
    }
   ],
   "source": [
    "reviews"
   ]
  },
  {
   "cell_type": "code",
   "execution_count": 10,
   "metadata": {},
   "outputs": [],
   "source": [
    "import pandas as pd\n",
    "import numpy as np\n",
    "\n",
    "df = pd.DataFrame(np.array(reviews), columns = ['review'])"
   ]
  },
  {
   "cell_type": "code",
   "execution_count": 11,
   "metadata": {},
   "outputs": [
    {
     "data": {
      "text/plain": [
       "'This is a typical steak house.  Drinks are made well. Nice steaks, sides are family style, nice wine selection. Our experience was not great. We got a dry-aged porterhouse that was sent back twice because it was way too raw in the center.  The lamb chops were very large and fatty so I would not order those again.  Wine and desserts were very good, which they gave us because of the steak issue.  There are not many restaurants in Bedford so they have a captive audience but still should want to provide a better meal for those looking to spend a lot of money.   Service was exceptional as our waitress saw the steak and was very apologetic.'"
      ]
     },
     "execution_count": 11,
     "metadata": {},
     "output_type": "execute_result"
    }
   ],
   "source": [
    "df['review'].iloc[0]\n",
    "df['review'].iloc[2]"
   ]
  },
  {
   "cell_type": "code",
   "execution_count": 12,
   "metadata": {},
   "outputs": [
    {
     "data": {
      "text/plain": [
       "<bound method NDFrame.tail of                                               review\n",
       "0  Stopped here for dinner. We had tried eating h...\n",
       "1  Historic setting w/ unique seating inside Omni...\n",
       "2  This is a typical steak house.  Drinks are mad...\n",
       "3  My recent birthday celebration at 1796 Restaur...\n",
       "4  I really wanted to love it - the service was g...\n",
       "5  I've driven past the Bedford Omni before but  ...\n",
       "6  We've really enjoyed this place when visited. ...\n",
       "7  I have been here a few times over the years an...\n",
       "8  A fabulous steakhouse!!  Hidden in Bedford, Pa...\n",
       "9  Very unique steakhouse. The set up and decor t...>"
      ]
     },
     "execution_count": 12,
     "metadata": {},
     "output_type": "execute_result"
    }
   ],
   "source": [
    "df.tail"
   ]
  },
  {
   "cell_type": "code",
   "execution_count": 13,
   "metadata": {},
   "outputs": [],
   "source": [
    "def sentiment_score(review):\n",
    "    tokens = tokenizer.encode(review, return_tensors='pt')\n",
    "    result = model(tokens)\n",
    "    return int(torch.argmax(result.logits))+1"
   ]
  },
  {
   "cell_type": "code",
   "execution_count": 14,
   "metadata": {},
   "outputs": [
    {
     "data": {
      "text/plain": [
       "5"
      ]
     },
     "execution_count": 14,
     "metadata": {},
     "output_type": "execute_result"
    }
   ],
   "source": [
    "sentiment_score(df['review'].iloc[3])"
   ]
  },
  {
   "cell_type": "code",
   "execution_count": 15,
   "metadata": {},
   "outputs": [],
   "source": [
    "df['sentiment'] = df['review'].apply(lambda x: sentiment_score(x[:512]))"
   ]
  },
  {
   "cell_type": "code",
   "execution_count": 16,
   "metadata": {},
   "outputs": [
    {
     "data": {
      "text/html": [
       "<div>\n",
       "<style scoped>\n",
       "    .dataframe tbody tr th:only-of-type {\n",
       "        vertical-align: middle;\n",
       "    }\n",
       "\n",
       "    .dataframe tbody tr th {\n",
       "        vertical-align: top;\n",
       "    }\n",
       "\n",
       "    .dataframe thead th {\n",
       "        text-align: right;\n",
       "    }\n",
       "</style>\n",
       "<table border=\"1\" class=\"dataframe\">\n",
       "  <thead>\n",
       "    <tr style=\"text-align: right;\">\n",
       "      <th></th>\n",
       "      <th>review</th>\n",
       "      <th>sentiment</th>\n",
       "    </tr>\n",
       "  </thead>\n",
       "  <tbody>\n",
       "    <tr>\n",
       "      <th>0</th>\n",
       "      <td>Stopped here for dinner. We had tried eating h...</td>\n",
       "      <td>3</td>\n",
       "    </tr>\n",
       "    <tr>\n",
       "      <th>1</th>\n",
       "      <td>Historic setting w/ unique seating inside Omni...</td>\n",
       "      <td>3</td>\n",
       "    </tr>\n",
       "    <tr>\n",
       "      <th>2</th>\n",
       "      <td>This is a typical steak house.  Drinks are mad...</td>\n",
       "      <td>3</td>\n",
       "    </tr>\n",
       "    <tr>\n",
       "      <th>3</th>\n",
       "      <td>My recent birthday celebration at 1796 Restaur...</td>\n",
       "      <td>5</td>\n",
       "    </tr>\n",
       "    <tr>\n",
       "      <th>4</th>\n",
       "      <td>I really wanted to love it - the service was g...</td>\n",
       "      <td>2</td>\n",
       "    </tr>\n",
       "    <tr>\n",
       "      <th>5</th>\n",
       "      <td>I've driven past the Bedford Omni before but  ...</td>\n",
       "      <td>5</td>\n",
       "    </tr>\n",
       "    <tr>\n",
       "      <th>6</th>\n",
       "      <td>We've really enjoyed this place when visited. ...</td>\n",
       "      <td>3</td>\n",
       "    </tr>\n",
       "    <tr>\n",
       "      <th>7</th>\n",
       "      <td>I have been here a few times over the years an...</td>\n",
       "      <td>2</td>\n",
       "    </tr>\n",
       "    <tr>\n",
       "      <th>8</th>\n",
       "      <td>A fabulous steakhouse!!  Hidden in Bedford, Pa...</td>\n",
       "      <td>5</td>\n",
       "    </tr>\n",
       "    <tr>\n",
       "      <th>9</th>\n",
       "      <td>Very unique steakhouse. The set up and decor t...</td>\n",
       "      <td>5</td>\n",
       "    </tr>\n",
       "  </tbody>\n",
       "</table>\n",
       "</div>"
      ],
      "text/plain": [
       "                                              review  sentiment\n",
       "0  Stopped here for dinner. We had tried eating h...          3\n",
       "1  Historic setting w/ unique seating inside Omni...          3\n",
       "2  This is a typical steak house.  Drinks are mad...          3\n",
       "3  My recent birthday celebration at 1796 Restaur...          5\n",
       "4  I really wanted to love it - the service was g...          2\n",
       "5  I've driven past the Bedford Omni before but  ...          5\n",
       "6  We've really enjoyed this place when visited. ...          3\n",
       "7  I have been here a few times over the years an...          2\n",
       "8  A fabulous steakhouse!!  Hidden in Bedford, Pa...          5\n",
       "9  Very unique steakhouse. The set up and decor t...          5"
      ]
     },
     "execution_count": 16,
     "metadata": {},
     "output_type": "execute_result"
    }
   ],
   "source": [
    "df"
   ]
  },
  {
   "cell_type": "code",
   "execution_count": 17,
   "metadata": {},
   "outputs": [
    {
     "name": "stdout",
     "output_type": "stream",
     "text": [
      "3.6\n"
     ]
    }
   ],
   "source": [
    "average = df['sentiment'].mean()\n",
    "print(average)"
   ]
  },
  {
   "cell_type": "code",
   "execution_count": null,
   "metadata": {},
   "outputs": [],
   "source": []
  },
  {
   "cell_type": "markdown",
   "metadata": {},
   "source": []
  }
 ],
 "metadata": {
  "kernelspec": {
   "display_name": "Python 3",
   "language": "python",
   "name": "python3"
  },
  "language_info": {
   "codemirror_mode": {
    "name": "ipython",
    "version": 3
   },
   "file_extension": ".py",
   "mimetype": "text/x-python",
   "name": "python",
   "nbconvert_exporter": "python",
   "pygments_lexer": "ipython3",
   "version": "3.9.6"
  }
 },
 "nbformat": 4,
 "nbformat_minor": 2
}
